{
 "cells": [
  {
   "cell_type": "code",
   "execution_count": 1,
   "id": "fecad4b3",
   "metadata": {},
   "outputs": [],
   "source": [
    "\"\"\"\n",
    "Created on Wed Aug  4 17:50:06 2021\n",
    "\n",
    "@author: Amol & Dwyer\n",
    "\"\"\"\n",
    "\n",
    "# set TF GPU memory growth so that it doesn't hog everything at once\n",
    "import tensorflow as tf\n",
    "physical_devices = tf.config.list_physical_devices('GPU')\n",
    "tf.config.experimental.set_memory_growth(physical_devices[0], True)\n",
    "\n",
    "import os\n",
    "import numpy as np\n",
    "from main import *\n",
    "debug_mode = True  # faster experiments for debugging\n",
    "\n",
    "# util for getting objects' fields' names\n",
    "field_names = lambda x: list(vars(x).keys())"
   ]
  },
  {
   "cell_type": "code",
   "execution_count": 2,
   "id": "797e3ae8",
   "metadata": {},
   "outputs": [],
   "source": [
    "#Prepare the DataFrame that will be used downstream\n",
    "dp = DataPreparer()\n",
    "dp.createPCAs()\n",
    "dp.sparsePCAs()\n",
    "dp.zmixOrthogonalPCAs()\n",
    "df = dp.getDataframe()\n",
    "\n",
    "# currently passing dp eventually we want to abstract all the constants into 1 class\n",
    "dm = DataManager(df, dp)"
   ]
  },
  {
   "cell_type": "code",
   "execution_count": 3,
   "id": "8d1509ca",
   "metadata": {},
   "outputs": [
    {
     "data": {
      "text/plain": [
       "\"\\nbestModel, experimentSettings = exprExec.modelFactory.openBestModel()\\ndm.createTrainTestData(experimentSettings['dataSetMethod'], experimentSettings['noOfCpv'],\\n                       experimentSettings['ipscaler'], experimentSettings['opscaler'])\\ndm.input_data_cols\\n\""
      ]
     },
     "execution_count": 3,
     "metadata": {},
     "output_type": "execute_result"
    }
   ],
   "source": [
    "\"\"\"\n",
    "bestModel, experimentSettings = exprExec.modelFactory.openBestModel()\n",
    "dm.createTrainTestData(experimentSettings['dataSetMethod'], experimentSettings['noOfCpv'],\n",
    "                       experimentSettings['ipscaler'], experimentSettings['opscaler'])\n",
    "dm.input_data_cols\n",
    "\"\"\""
   ]
  },
  {
   "cell_type": "code",
   "execution_count": null,
   "id": "244190db",
   "metadata": {},
   "outputs": [],
   "source": [
    "'''\n",
    "Run the Model Experiments\n",
    "'''\n",
    "model = 'PCDNN_V2'\n",
    "assert model in ['PCDNN_V2', 'PCDNN_V1', 'SIMPLE_DNN', 'GP'] # valid possible models\n",
    "exprExec=run_model_experiments(dm, models=model, debug_mode=debug_mode)"
   ]
  },
  {
   "cell_type": "code",
   "execution_count": 5,
   "id": "14a22ddb",
   "metadata": {},
   "outputs": [
    {
     "name": "stdout",
     "output_type": "stream",
     "text": [
      "Parent DNNModelFactory Instantiated\n"
     ]
    }
   ],
   "source": [
    "\"\"\" prepare SimpleDNN for loading (from prior experiments) \"\"\"\n",
    "\n",
    "exprExec = DNNExperimentExecutor()\n",
    "exprExec.debug_mode = debug_mode\n",
    "\n",
    "exprExec.setModelFactory(SimpleDNNModelFactory())"
   ]
  },
  {
   "cell_type": "code",
   "execution_count": 6,
   "id": "e722fe4a",
   "metadata": {},
   "outputs": [
    {
     "name": "stdout",
     "output_type": "stream",
     "text": [
      "Parent DNNModelFactory Instantiated\n"
     ]
    }
   ],
   "source": [
    "\"\"\" prepare PCDNNV1 for loading (from prior experiments) \"\"\"\n",
    "\n",
    "exprExec = PCDNNV1ExperimentExecutor()\n",
    "exprExec.debug_mode = debug_mode\n",
    "\n",
    "exprExec.setModelFactory(PCDNNV1ModelFactory())"
   ]
  },
  {
   "cell_type": "code",
   "execution_count": 7,
   "id": "c52d1b5e",
   "metadata": {},
   "outputs": [
    {
     "name": "stdout",
     "output_type": "stream",
     "text": [
      "Parent DNNModelFactory Instantiated\n"
     ]
    }
   ],
   "source": [
    "\"\"\" prepare PCDNNV2 for loading (from prior experiments) \"\"\"\n",
    "\n",
    "exprExec = PCDNNV2ExperimentExecutor()\n",
    "exprExec.debug_mode = debug_mode\n",
    "\n",
    "exprExec.setModelFactory(PCDNNV2ModelFactory())"
   ]
  },
  {
   "cell_type": "markdown",
   "id": "24223f4f",
   "metadata": {},
   "source": [
    "## Rapid Model Testing: \n",
    "### (requires setting up PCDNNV2 for loading)"
   ]
  },
  {
   "cell_type": "code",
   "execution_count": 8,
   "id": "0f3161d1",
   "metadata": {
    "scrolled": true
   },
   "outputs": [
    {
     "name": "stdout",
     "output_type": "stream",
     "text": [
      "--------------------self.build_and_compile_pcdnn_v2_model----------------------\n",
      "53 4 Y Y Y\n",
      "Model: \"model_1\"\n",
      "__________________________________________________________________________________________________\n",
      " Layer (type)                   Output Shape         Param #     Connected to                     \n",
      "==================================================================================================\n",
      " species_input (InputLayer)     [(None, 53)]         0           []                               \n",
      "                                                                                                  \n",
      " zmix (InputLayer)              [(None, 1)]          0           []                               \n",
      "                                                                                                  \n",
      " linear_embedding (Functional)  (None, 4)            216         ['species_input[0][0]']          \n",
      "                                                                                                  \n",
      " concatenated_zmix_linear_embed  (None, 5)           0           ['zmix[0][0]',                   \n",
      " ding (Concatenate)                                               'linear_embedding[0][0]']       \n",
      "                                                                                                  \n",
      " prediction (Functional)        (None, 1)            396801      ['concatenated_zmix_linear_embedd\n",
      "                                                                 ing[0][0]']                      \n",
      "                                                                                                  \n",
      "==================================================================================================\n",
      "Total params: 397,017\n",
      "Trainable params: 394,073\n",
      "Non-trainable params: 2,944\n",
      "__________________________________________________________________________________________________\n",
      "Model: \"model_1\"\n",
      "__________________________________________________________________________________________________\n",
      " Layer (type)                   Output Shape         Param #     Connected to                     \n",
      "==================================================================================================\n",
      " species_input (InputLayer)     [(None, 53)]         0           []                               \n",
      "                                                                                                  \n",
      " zmix (InputLayer)              [(None, 1)]          0           []                               \n",
      "                                                                                                  \n",
      " linear_embedding (Functional)  (None, 4)            216         ['species_input[0][0]']          \n",
      "|¯¯¯¯¯¯¯¯¯¯¯¯¯¯¯¯¯¯¯¯¯¯¯¯¯¯¯¯¯¯¯¯¯¯¯¯¯¯¯¯¯¯¯¯¯¯¯¯¯¯¯¯¯¯¯¯¯¯¯¯¯¯¯¯¯¯¯¯¯¯¯¯¯¯¯¯¯¯¯¯¯¯¯¯¯¯¯¯¯¯¯¯¯¯¯¯|\n",
      "| species_input (InputLayer)   [(None, 53)]         0           []                               |\n",
      "|                                                                                                |\n",
      "| linear_embedding (Dense)     (None, 4)            216         []                               |\n",
      "¯¯¯¯¯¯¯¯¯¯¯¯¯¯¯¯¯¯¯¯¯¯¯¯¯¯¯¯¯¯¯¯¯¯¯¯¯¯¯¯¯¯¯¯¯¯¯¯¯¯¯¯¯¯¯¯¯¯¯¯¯¯¯¯¯¯¯¯¯¯¯¯¯¯¯¯¯¯¯¯¯¯¯¯¯¯¯¯¯¯¯¯¯¯¯¯¯¯\n",
      " concatenated_zmix_linear_embed  (None, 5)           0           ['zmix[0][0]',                   \n",
      " ding (Concatenate)                                               'linear_embedding[0][0]']       \n",
      "                                                                                                  \n",
      " prediction (Functional)        (None, 1)            396801      ['concatenated_zmix_linear_embedd\n",
      "                                                                 ing[0][0]']                      \n",
      "|¯¯¯¯¯¯¯¯¯¯¯¯¯¯¯¯¯¯¯¯¯¯¯¯¯¯¯¯¯¯¯¯¯¯¯¯¯¯¯¯¯¯¯¯¯¯¯¯¯¯¯¯¯¯¯¯¯¯¯¯¯¯¯¯¯¯¯¯¯¯¯¯¯¯¯¯¯¯¯¯¯¯¯¯¯¯¯¯¯¯¯¯¯¯¯¯|\n",
      "| input_1 (InputLayer)         [(None, 5)]          0           []                               |\n",
      "|                                                                                                |\n",
      "| dense_4 (Dense)              (None, 32)           192         []                               |\n",
      "|                                                                                                |\n",
      "| batch_normalization_3 (BatchNo  (None, 32)        128         []                               |\n",
      "| rmalization)                                                                                   |\n",
      "|                                                                                                |\n",
      "| dropout_3 (Dropout)          (None, 32)           0           []                               |\n",
      "|                                                                                                |\n",
      "| dense_5 (Dense)              (None, 64)           2112        []                               |\n",
      "|                                                                                                |\n",
      "| batch_normalization_4 (BatchNo  (None, 64)        256         []                               |\n",
      "| rmalization)                                                                                   |\n",
      "|                                                                                                |\n",
      "| dropout_4 (Dropout)          (None, 64)           0           []                               |\n",
      "|                                                                                                |\n",
      "| dense_6 (Dense)              (None, 128)          8320        []                               |\n",
      "|                                                                                                |\n",
      "| batch_normalization_5 (BatchNo  (None, 128)       512         []                               |\n",
      "| rmalization)                                                                                   |\n",
      "|                                                                                                |\n",
      "| dropout_5 (Dropout)          (None, 128)          0           []                               |\n",
      "|                                                                                                |\n",
      "| concatenate_1 (Concatenate)  (None, 160)          0           []                               |\n",
      "|                                                                                                |\n",
      "| dense_7 (Dense)              (None, 256)          41216       []                               |\n",
      "|                                                                                                |\n",
      "| batch_normalization_6 (BatchNo  (None, 256)       1024        []                               |\n",
      "| rmalization)                                                                                   |\n",
      "|                                                                                                |\n",
      "| dropout_6 (Dropout)          (None, 256)          0           []                               |\n",
      "|                                                                                                |\n",
      "| dense_8 (Dense)              (None, 512)          131584      []                               |\n",
      "|                                                                                                |\n",
      "| batch_normalization_7 (BatchNo  (None, 512)       2048        []                               |\n",
      "| rmalization)                                                                                   |\n",
      "|                                                                                                |\n",
      "| dropout_7 (Dropout)          (None, 512)          0           []                               |\n",
      "|                                                                                                |\n",
      "| dense_9 (Dense)              (None, 256)          131328      []                               |\n",
      "|                                                                                                |\n",
      "| batch_normalization_8 (BatchNo  (None, 256)       1024        []                               |\n",
      "| rmalization)                                                                                   |\n",
      "|                                                                                                |\n",
      "| dropout_8 (Dropout)          (None, 256)          0           []                               |\n",
      "|                                                                                                |\n",
      "| concatenate_2 (Concatenate)  (None, 512)          0           []                               |\n",
      "|                                                                                                |\n",
      "| dense_10 (Dense)             (None, 128)          65664       []                               |\n",
      "|                                                                                                |\n",
      "| batch_normalization_9 (BatchNo  (None, 128)       512         []                               |\n",
      "| rmalization)                                                                                   |\n",
      "|                                                                                                |\n",
      "| dropout_9 (Dropout)          (None, 128)          0           []                               |\n",
      "|                                                                                                |\n",
      "| dense_11 (Dense)             (None, 64)           8256        []                               |\n",
      "|                                                                                                |\n",
      "| batch_normalization_10 (BatchN  (None, 64)        256         []                               |\n",
      "| ormalization)                                                                                  |\n",
      "|                                                                                                |\n",
      "| dropout_10 (Dropout)         (None, 64)           0           []                               |\n",
      "|                                                                                                |\n",
      "| dense_12 (Dense)             (None, 32)           2080        []                               |\n",
      "|                                                                                                |\n",
      "| batch_normalization_11 (BatchN  (None, 32)        128         []                               |\n",
      "| ormalization)                                                                                  |\n",
      "|                                                                                                |\n",
      "| dropout_11 (Dropout)         (None, 32)           0           []                               |\n",
      "|                                                                                                |\n",
      "| concatenate_3 (Concatenate)  (None, 160)          0           []                               |\n",
      "|                                                                                                |\n",
      "| dense_13 (Dense)             (None, 1)            161         []                               |\n",
      "¯¯¯¯¯¯¯¯¯¯¯¯¯¯¯¯¯¯¯¯¯¯¯¯¯¯¯¯¯¯¯¯¯¯¯¯¯¯¯¯¯¯¯¯¯¯¯¯¯¯¯¯¯¯¯¯¯¯¯¯¯¯¯¯¯¯¯¯¯¯¯¯¯¯¯¯¯¯¯¯¯¯¯¯¯¯¯¯¯¯¯¯¯¯¯¯¯¯\n",
      "==================================================================================================\n",
      "Total params: 397,017\n",
      "Trainable params: 394,073\n",
      "Non-trainable params: 2,944\n",
      "__________________________________________________________________________________________________\n",
      "training model: 1\n",
      "Epoch 1/5\n"
     ]
    },
    {
     "name": "stdout",
     "output_type": "stream",
     "text": [
      "129/129 [==============================] - 6s 28ms/step - loss: 1.1218 - mae: 1.0078 - mse: 1.8393 - exp_mse_mag: 1.4808 - exp_mae_mag: 0.3420 - exp_R2: -29697.6934 - R2: -132.8647 - val_loss: 0.1476 - val_mae: 0.1452 - val_mse: 0.0282 - val_exp_mse_mag: -1.3489 - val_exp_mae_mag: -0.7709 - val_exp_R2: -0.5262 - val_R2: -0.7601\n",
      "Epoch 2/5\n",
      "129/129 [==============================] - 3s 25ms/step - loss: 0.4537 - mae: 0.4513 - mse: 0.3904 - exp_mse_mag: 0.0054 - exp_mae_mag: -0.2482 - exp_R2: -102.9499 - R2: -28.6104 - val_loss: 0.0673 - val_mae: 0.0647 - val_mse: 0.0208 - val_exp_mse_mag: -1.4833 - val_exp_mae_mag: -1.1148 - val_exp_R2: -0.0239 - val_R2: -0.0119\n",
      "Epoch 3/5\n",
      "129/129 [==============================] - 3s 25ms/step - loss: 0.1797 - mae: 0.1765 - mse: 0.0751 - exp_mse_mag: -0.9596 - exp_mae_mag: -0.7054 - exp_R2: -19.4124 - R2: -4.7097 - val_loss: 0.1012 - val_mae: 0.0965 - val_mse: 0.0289 - val_exp_mse_mag: -1.3597 - val_exp_mae_mag: -0.9617 - val_exp_R2: -0.3738 - val_R2: -0.5194\n",
      "Epoch 4/5\n",
      "129/129 [==============================] - 3s 25ms/step - loss: 0.0727 - mae: 0.0691 - mse: 0.0182 - exp_mse_mag: -1.5058 - exp_mae_mag: -1.0862 - exp_R2: 0.0484 - R2: 0.0383 - val_loss: 0.0606 - val_mae: 0.0569 - val_mse: 0.0211 - val_exp_mse_mag: -1.4783 - val_exp_mae_mag: -1.1672 - val_exp_R2: -0.0360 - val_R2: -0.0241\n",
      "Epoch 5/5\n",
      "129/129 [==============================] - 3s 25ms/step - loss: 0.0644 - mae: 0.0610 - mse: 0.0167 - exp_mse_mag: -1.5526 - exp_mae_mag: -1.1352 - exp_R2: 0.0997 - R2: 0.1230 - val_loss: 0.0623 - val_mae: 0.0593 - val_mse: 0.0215 - val_exp_mse_mag: -1.4650 - val_exp_mae_mag: -1.1507 - val_exp_R2: -0.0709 - val_R2: -0.0786\n",
      "Model: \"linear_embedding\"\n",
      "_________________________________________________________________\n",
      " Layer (type)                Output Shape              Param #   \n",
      "=================================================================\n",
      " species_input (InputLayer)  [(None, 53)]              0         \n",
      "                                                                 \n",
      " linear_embedding (Dense)    (None, 4)                 216       \n",
      "                                                                 \n",
      "=================================================================\n",
      "Total params: 216\n",
      "Trainable params: 216\n",
      "Non-trainable params: 0\n",
      "_________________________________________________________________\n",
      "                TAE           TSE        TRE           MAE           MSE  \\\n",
      "count  1.000000e+00  1.000000e+00    1.00000  1.000000e+00  1.000000e+00   \n",
      "mean   1.008462e+14  7.585632e+24  922.80918  1.226989e+10  9.229386e+20   \n",
      "std             NaN           NaN        NaN           NaN           NaN   \n",
      "min    1.008462e+14  7.585632e+24  922.80918  1.226989e+10  9.229386e+20   \n",
      "25%    1.008462e+14  7.585632e+24  922.80918  1.226989e+10  9.229386e+20   \n",
      "50%    1.008462e+14  7.585632e+24  922.80918  1.226989e+10  9.229386e+20   \n",
      "75%    1.008462e+14  7.585632e+24  922.80918  1.226989e+10  9.229386e+20   \n",
      "max    1.008462e+14  7.585632e+24  922.80918  1.226989e+10  9.229386e+20   \n",
      "\n",
      "             MRE       MAPE    #Pts  \n",
      "count    1.00000    1.00000     1.0  \n",
      "mean   922.80918  922.80918  8219.0  \n",
      "std          NaN        NaN     NaN  \n",
      "min    922.80918  922.80918  8219.0  \n",
      "25%    922.80918  922.80918  8219.0  \n",
      "50%    922.80918  922.80918  8219.0  \n",
      "75%    922.80918  922.80918  8219.0  \n",
      "max    922.80918  922.80918  8219.0  \n",
      "self.modelType: PCDNNV2 dataType: randomequaltraintestsplit inputType:AllSpeciesAndZmix noOfCpv:4 ZmixPresent:Y MAE:12269887914.32447\n"
     ]
    },
    {
     "ename": "NameError",
     "evalue": "name 'single_experiment' is not defined",
     "output_type": "error",
     "traceback": [
      "\u001b[0;31m---------------------------------------------------------------------------\u001b[0m",
      "\u001b[0;31mNameError\u001b[0m                                 Traceback (most recent call last)",
      "\u001b[0;32m<ipython-input-8-67e7e676a9bf>\u001b[0m in \u001b[0;36m<module>\u001b[0;34m\u001b[0m\n\u001b[1;32m     35\u001b[0m                                  \u001b[0mkernel_regularizer\u001b[0m\u001b[0;34m=\u001b[0m\u001b[0mkernel_regularizer\u001b[0m\u001b[0;34m,\u001b[0m\u001b[0mactivity_regularizer\u001b[0m\u001b[0;34m=\u001b[0m\u001b[0mactivity_regularizer\u001b[0m\u001b[0;34m,\u001b[0m\u001b[0;34m\u001b[0m\u001b[0;34m\u001b[0m\u001b[0m\n\u001b[1;32m     36\u001b[0m                                  opscaler=opscaler)\n\u001b[0;32m---> 37\u001b[0;31m \u001b[0mhistory\u001b[0m \u001b[0;34m=\u001b[0m \u001b[0msingle_experiment\u001b[0m\u001b[0;34m(\u001b[0m\u001b[0;34m)\u001b[0m\u001b[0;34m\u001b[0m\u001b[0;34m\u001b[0m\u001b[0m\n\u001b[0m",
      "\u001b[0;31mNameError\u001b[0m: name 'single_experiment' is not defined"
     ]
    }
   ],
   "source": [
    "# fix seeds\n",
    "import random\n",
    "import numpy as np\n",
    "random.seed(0)\n",
    "np.random.seed(0)\n",
    "tf.random.set_seed(0)\n",
    "\n",
    "dataType = 'randomequaltraintestsplit' #'frameworkincludedtrainexcludedtest'\n",
    "inputType = 'AllSpeciesAndZmix'\n",
    "dataSetMethod = f'{inputType}_{dataType}'\n",
    "opscaler = \"MinMaxScaler\"# 'PositiveLogNormal'\n",
    "ZmixPresent = 'Y'\n",
    "concatenateZmix = 'Y'\n",
    "kernel_constraint = 'Y'\n",
    "kernel_regularizer = 'Y'\n",
    "activity_regularizer = 'Y'\n",
    "noOfCpv = 4\n",
    "noOfNeurons = 53\n",
    "\n",
    "exprExec.modelFactory.loss='mae'\n",
    "exprExec.modelFactory.activation_func='relu'\n",
    "exprExec.modelFactory.dropout_rate=0.5\n",
    "exprExec.debug_mode = False\n",
    "exprExec.epochs_override = 5\n",
    "exprExec.batch_size = 64\n",
    "exprExec.n_models_override = 1\n",
    "\n",
    "# initialize experiment executor...\n",
    "exprExec.dm = dm\n",
    "exprExec.df_experimentTracker = pd.DataFrame()\n",
    "exprExec.modelType = 'PCDNNV2'\n",
    "\n",
    "exprExec.executeSingleExperiment(noOfNeurons,dataSetMethod,dataType,inputType,ZmixPresent=ZmixPresent,\n",
    "                                 noOfCpv=noOfCpv,concatenateZmix=concatenateZmix,kernel_constraint=kernel_constraint,\n",
    "                                 kernel_regularizer=kernel_regularizer,activity_regularizer=activity_regularizer,\n",
    "                                 opscaler=opscaler)\n",
    "history = single_experiment()"
   ]
  },
  {
   "cell_type": "markdown",
   "id": "19601332",
   "metadata": {},
   "source": [
    "## Results Plotting & Analysis"
   ]
  },
  {
   "cell_type": "code",
   "execution_count": null,
   "id": "80255f98",
   "metadata": {},
   "outputs": [],
   "source": [
    "loss = 727684307.3417714 # Update Me!\n",
    "\n",
    "def print_scientific_notation(number):\n",
    "    power = int(np.log(number)/np.log(10))\n",
    "    print(f\"Scientific Notation: {(loss/10**power)}*10^{power}\")\n",
    "print_scientific_notation(loss)"
   ]
  },
  {
   "cell_type": "code",
   "execution_count": null,
   "id": "5c22577a",
   "metadata": {},
   "outputs": [],
   "source": [
    "import matplotlib.pyplot as plt\n",
    "import numpy as np\n",
    "%matplotlib inline\n",
    "plt.plot(np.maximum(history.history['val_R2'][30:], 0))\n",
    "plt.title('val_R^2 vs epochs')\n",
    "plt.ylabel('percent')\n",
    "plt.xlabel('epochs')\n",
    "plt.show()"
   ]
  },
  {
   "cell_type": "code",
   "execution_count": 9,
   "id": "2ec3b634",
   "metadata": {},
   "outputs": [
    {
     "name": "stdout",
     "output_type": "stream",
     "text": [
      "WARNING:tensorflow:No training configuration found in the save file, so the model was *not* compiled. Compile it manually.\n",
      "\n",
      "experimentSettings: {'dataSetMethod': 'AllSpeciesAndZmix_randomequaltraintestsplit', 'ipscaler': 'MinMaxScaler', 'opscaler': 'MinMaxScaler', 'noOfCpv': 4, 'ZmixPresent': 'Y', 'concatenateZmix': 'Y', 'kernel_constraint': 'Y', 'kernel_regularizer': 'Y', 'activity_regularizer': 'Y', 'input_data_cols': ['YiCH4', 'YiH', 'YiO', 'YiO2', 'YiOH', 'YiH2O', 'YiHO2', 'YiH2O2', 'YiC', 'YiCH', 'YiCH2', 'YiCH2(S)', 'YiCH3', 'YiH2', 'YiCO', 'YiCO2', 'YiHCO', 'YiCH2O', 'YiCH2OH', 'YiCH3O', 'YiCH3OH', 'YiC2H', 'YiC2H2', 'YiC2H3', 'YiC2H4', 'YiC2H5', 'YiC2H6', 'YiHCCO', 'YiCH2CO', 'YiHCCOH', 'YiN', 'YiNH', 'YiNH2', 'YiNH3', 'YiNNH', 'YiNO', 'YiNO2', 'YiN2O', 'YiHNO', 'YiCN', 'YiHCN', 'YiH2CN', 'YiHCNN', 'YiHCNO', 'YiHOCN', 'YiHNCO', 'YiNCO', 'YiC3H7', 'YiC3H8', 'YiCH2CHO', 'YiCH3CHO', 'YiN2', 'YiAR']}\n",
      "\n",
      "bestModel.input_shape: [(None, 53), (None, 1)]\n",
      "Model: \"prediction\"\n",
      "__________________________________________________________________________________________________\n",
      " Layer (type)                   Output Shape         Param #     Connected to                     \n",
      "==================================================================================================\n",
      " input_1 (InputLayer)           [(None, 5)]          0           []                               \n",
      "                                                                                                  \n",
      " dense_4 (Dense)                (None, 32)           192         ['input_1[0][0]']                \n",
      "                                                                                                  \n",
      " batch_normalization_3 (BatchNo  (None, 32)          128         ['dense_4[0][0]']                \n",
      " rmalization)                                                                                     \n",
      "                                                                                                  \n",
      " dropout_3 (Dropout)            (None, 32)           0           ['batch_normalization_3[0][0]']  \n",
      "                                                                                                  \n",
      " dense_5 (Dense)                (None, 64)           2112        ['dropout_3[0][0]']              \n",
      "                                                                                                  \n",
      " batch_normalization_4 (BatchNo  (None, 64)          256         ['dense_5[0][0]']                \n",
      " rmalization)                                                                                     \n",
      "                                                                                                  \n",
      " dropout_4 (Dropout)            (None, 64)           0           ['batch_normalization_4[0][0]']  \n",
      "                                                                                                  \n",
      " dense_6 (Dense)                (None, 128)          8320        ['dropout_4[0][0]']              \n",
      "                                                                                                  \n",
      " batch_normalization_5 (BatchNo  (None, 128)         512         ['dense_6[0][0]']                \n",
      " rmalization)                                                                                     \n",
      "                                                                                                  \n",
      " dropout_5 (Dropout)            (None, 128)          0           ['batch_normalization_5[0][0]']  \n",
      "                                                                                                  \n",
      " concatenate_1 (Concatenate)    (None, 160)          0           ['dropout_5[0][0]',              \n",
      "                                                                  'dropout_3[0][0]']              \n",
      "                                                                                                  \n",
      " dense_7 (Dense)                (None, 256)          41216       ['concatenate_1[0][0]']          \n",
      "                                                                                                  \n",
      " batch_normalization_6 (BatchNo  (None, 256)         1024        ['dense_7[0][0]']                \n",
      " rmalization)                                                                                     \n",
      "                                                                                                  \n",
      " dropout_6 (Dropout)            (None, 256)          0           ['batch_normalization_6[0][0]']  \n",
      "                                                                                                  \n",
      " dense_8 (Dense)                (None, 512)          131584      ['dropout_6[0][0]']              \n",
      "                                                                                                  \n",
      " batch_normalization_7 (BatchNo  (None, 512)         2048        ['dense_8[0][0]']                \n",
      " rmalization)                                                                                     \n",
      "                                                                                                  \n",
      " dropout_7 (Dropout)            (None, 512)          0           ['batch_normalization_7[0][0]']  \n",
      "                                                                                                  \n",
      " dense_9 (Dense)                (None, 256)          131328      ['dropout_7[0][0]']              \n",
      "                                                                                                  \n",
      " batch_normalization_8 (BatchNo  (None, 256)         1024        ['dense_9[0][0]']                \n",
      " rmalization)                                                                                     \n",
      "                                                                                                  \n",
      " dropout_8 (Dropout)            (None, 256)          0           ['batch_normalization_8[0][0]']  \n",
      "                                                                                                  \n",
      " concatenate_2 (Concatenate)    (None, 512)          0           ['dropout_8[0][0]',              \n",
      "                                                                  'dropout_6[0][0]']              \n",
      "                                                                                                  \n",
      " dense_10 (Dense)               (None, 128)          65664       ['concatenate_2[0][0]']          \n",
      "                                                                                                  \n",
      " batch_normalization_9 (BatchNo  (None, 128)         512         ['dense_10[0][0]']               \n",
      " rmalization)                                                                                     \n",
      "                                                                                                  \n",
      " dropout_9 (Dropout)            (None, 128)          0           ['batch_normalization_9[0][0]']  \n",
      "                                                                                                  \n",
      " dense_11 (Dense)               (None, 64)           8256        ['dropout_9[0][0]']              \n",
      "                                                                                                  \n",
      " batch_normalization_10 (BatchN  (None, 64)          256         ['dense_11[0][0]']               \n",
      " ormalization)                                                                                    \n",
      "                                                                                                  \n",
      " dropout_10 (Dropout)           (None, 64)           0           ['batch_normalization_10[0][0]'] \n",
      "                                                                                                  \n",
      " dense_12 (Dense)               (None, 32)           2080        ['dropout_10[0][0]']             \n",
      "                                                                                                  \n",
      " batch_normalization_11 (BatchN  (None, 32)          128         ['dense_12[0][0]']               \n",
      " ormalization)                                                                                    \n",
      "                                                                                                  \n",
      " dropout_11 (Dropout)           (None, 32)           0           ['batch_normalization_11[0][0]'] \n",
      "                                                                                                  \n",
      " concatenate_3 (Concatenate)    (None, 160)          0           ['dropout_11[0][0]',             \n",
      "                                                                  'dropout_9[0][0]']              \n",
      "                                                                                                  \n",
      " dense_13 (Dense)               (None, 1)            161         ['concatenate_3[0][0]']          \n",
      "                                                                                                  \n",
      "==================================================================================================\n",
      "Total params: 396,801\n",
      "Trainable params: 393,857\n",
      "Non-trainable params: 2,944\n",
      "__________________________________________________________________________________________________\n",
      "input names: ['input_1']\n",
      "Model: \"linear_embedding\"\n",
      "_________________________________________________________________\n",
      " Layer (type)                Output Shape              Param #   \n",
      "=================================================================\n",
      " species_input (InputLayer)  [(None, 53)]              0         \n",
      "                                                                 \n",
      " linear_embedding (Dense)    (None, 4)                 216       \n",
      "                                                                 \n",
      "=================================================================\n",
      "Total params: 216\n",
      "Trainable params: 216\n",
      "Non-trainable params: 0\n",
      "_________________________________________________________________\n"
     ]
    },
    {
     "name": "stdout",
     "output_type": "stream",
     "text": [
      "['zmix', 'cpv1', 'cpv2', 'cpv3', 'cpv4']\n"
     ]
    }
   ],
   "source": [
    "import model_analyzer.model_analysis as model_analysis\n",
    "import importlib; importlib.reload(model_analysis)\n",
    "\n",
    "bestModel, experimentSettings = exprExec.modelFactory.openBestModel()\n",
    "dm.createTrainTestData(experimentSettings['dataSetMethod'],experimentSettings['noOfCpv'], experimentSettings['ipscaler'], experimentSettings['opscaler'])\n",
    "\n",
    "print(f'\\nexperimentSettings: {experimentSettings}')\n",
    "print(f'\\nbestModel.input_shape: {bestModel.input_shape}')\n",
    "inspector = model_analysis.ModelInspector(exprExec.modelFactory, dm)"
   ]
  },
  {
   "cell_type": "code",
   "execution_count": 10,
   "id": "410474b7",
   "metadata": {},
   "outputs": [
    {
     "name": "stdout",
     "output_type": "stream",
     "text": [
      "cpv4; 2.513391e-03 +/- 5.558616e-05\n",
      "cpv2; 9.354915e-04 +/- 1.507638e-05\n",
      "cpv1; 3.659453e-04 +/- 1.848681e-05\n",
      "cpv3; -5.510950e-05 +/- 5.098536e-06\n",
      "zmix; -1.170035e-04 +/- 2.507310e-05\n"
     ]
    },
    {
     "data": {
      "image/png": "[encoded data removed]",
      "text/plain": [
       "<Figure size 432x288 with 1 Axes>"
      ]
     },
     "metadata": {
      "needs_background": "light"
     },
     "output_type": "display_data"
    }
   ],
   "source": [
    "n_repeats = 5 if debug_mode else 20\n",
    "inspector.plot_permutation_feature_importance(n_repeats=n_repeats)"
   ]
  },
  {
   "cell_type": "code",
   "execution_count": 11,
   "id": "383136c5",
   "metadata": {},
   "outputs": [
    {
     "name": "stdout",
     "output_type": "stream",
     "text": [
      "         zmix      cpv1      cpv2      cpv3      cpv4\n",
      "min  0.000000 -0.550150 -0.670431 -0.457964 -1.137624\n",
      "25%  0.213436  0.029801 -0.407500 -0.023284 -0.162101\n",
      "50%  0.402179  0.158562 -0.243002  0.002826 -0.086248\n",
      "75%  0.639781  0.287660 -0.121952  0.045799 -0.008506\n",
      "max  1.000000  0.582263  0.255201  0.261311  0.758503\n"
     ]
    },
    {
     "data": {
      "image/png": "[encoded data removed]",
      "text/plain": [
       "<Figure size 432x288 with 6 Axes>"
      ]
     },
     "metadata": {
      "needs_background": "light"
     },
     "output_type": "display_data"
    }
   ],
   "source": [
    "inspector.plot_partial_dependence()"
   ]
  },
  {
   "cell_type": "markdown",
   "id": "2bea5e02",
   "metadata": {},
   "source": [
    "### Print & Record Linear Embeddings Output (NOTE: Deprecated)"
   ]
  },
  {
   "cell_type": "code",
   "execution_count": null,
   "id": "12784d54",
   "metadata": {},
   "outputs": [],
   "source": [
    "import numpy as np\n",
    "\n",
    "def inspect_PCA(X):\n",
    "    PCA_dict = {}\n",
    "    PCA_dict['X'] = X\n",
    "    PCA_dict['Var'] = PCA_dict['X'].var(axis=0)\n",
    "    \n",
    "    # sort by explained variance\n",
    "    sort_idx = np.argsort(PCA_dict['Var'])[::-1]\n",
    "    PCA_dict['X'] = PCA_dict['X'][:, sort_idx]\n",
    "    PCA_dict['Var'] = PCA_dict['Var'][sort_idx]\n",
    "    PCA_dict['CumVar'] = np.add.accumulate(PCA_dict['Var'])\n",
    "    return PCA_dict\n",
    "\n",
    "\n",
    "X, Y, rom, zmix = dm.getAllData()\n",
    "FullDataset = inspect_PCA(X)\n",
    "try:    \n",
    "    linearAutoEncoder = exprExec.modelFactory.getLinearEncoder()\n",
    "    X = linearAutoEncoder.predict(FullDataset['X'])\n",
    "    DNN_PCA = inspect_PCA(X)\n",
    "except KeyError:\n",
    "    print('No Linear Auto Encoder!')"
   ]
  },
  {
   "cell_type": "code",
   "execution_count": null,
   "id": "f6b0fdcc",
   "metadata": {},
   "outputs": [],
   "source": [
    "#dm.createDataset\n",
    "import matplotlib.pyplot as plt\n",
    "import copy\n",
    "dm_PurePCA = copy.deepcopy(dm)\n",
    "dm_PurePCA.createTrainTestData(dataSetMethod='PurePCA_randomequalflamesplit',\n",
    "                               numCpvComponents=2, ipscaler=None, opscaler=None)\n",
    "\n",
    "X,Y,rom,zmix = dm_PurePCA.getAllData()\n",
    "PurePCA = inspect_PCA(X)\n",
    "print(PurePCA['Var'])\n",
    "print(DNN_PCA['Var'])\n",
    "\n",
    "plt.plot(PurePCA['CumVar']/FullDataset['Var'].sum(), color='r')\n",
    "plt.plot(DNN_PCA['CumVar']/FullDataset['Var'].sum(), color='b')\n",
    "plt.title('PCA Total Variance Comparison')"
   ]
  }
 ],
 "metadata": {
  "kernelspec": {
   "display_name": "Python 3",
   "language": "python",
   "name": "python3"
  },
  "language_info": {
   "codemirror_mode": {
    "name": "ipython",
    "version": 3
   },
   "file_extension": ".py",
   "mimetype": "text/x-python",
   "name": "python",
   "nbconvert_exporter": "python",
   "pygments_lexer": "ipython3",
   "version": "3.8.8"
  }
 },
 "nbformat": 4,
 "nbformat_minor": 5
}
