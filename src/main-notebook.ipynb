{
 "cells": [
  {
   "cell_type": "code",
   "execution_count": null,
   "id": "fecad4b3",
   "metadata": {},
   "outputs": [],
   "source": [
    "\"\"\"\n",
    "Created on Wed Aug  4 17:50:06 2021\n",
    "\n",
    "@author: amol\n",
    "\"\"\"\n",
    "\n",
    "# set TF GPU memory growth so that it doesn't hog everything at once\n",
    "import tensorflow as tf\n",
    "physical_devices = tf.config.list_physical_devices('GPU')\n",
    "tf.config.experimental.set_memory_growth(physical_devices[0], True)\n",
    "\n",
    "import os\n",
    "import numpy as np\n",
    "from main import *\n",
    "debug_mode = True  # faster experiments for debugging\n",
    "\n",
    "# util for getting objects' fields' names\n",
    "field_names = lambda x: list(vars(x).keys())"
   ]
  },
  {
   "cell_type": "code",
   "execution_count": null,
   "id": "797e3ae8",
   "metadata": {},
   "outputs": [],
   "source": [
    "#Prepare the DataFrame that will be used downstream\n",
    "dp = DataPreparer()\n",
    "dp.createPCAs()\n",
    "dp.sparsePCAs()\n",
    "dp.zmixOrthogonalPCAs()\n",
    "df = dp.getDataframe()\n",
    "\n",
    "# currently passing dp eventually we want to abstract all the constants into 1 class\n",
    "dm = DataManager(df, dp)"
   ]
  },
  {
   "cell_type": "code",
   "execution_count": null,
   "id": "8d1509ca",
   "metadata": {},
   "outputs": [],
   "source": [
    "\"\"\"\n",
    "bestModel, experimentSettings = exprExec.modelFactory.openBestModel()\n",
    "dm.createTrainTestData(experimentSettings['dataSetMethod'], experimentSettings['noOfCpv'],\n",
    "                       experimentSettings['ipscaler'], experimentSettings['opscaler'])\n",
    "dm.input_data_cols\n",
    "\"\"\""
   ]
  },
  {
   "cell_type": "code",
   "execution_count": null,
   "id": "244190db",
   "metadata": {},
   "outputs": [],
   "source": [
    "'''\n",
    "Run the Model Experiments\n",
    "'''\n",
    "model = 'PCDNN_V2'\n",
    "assert model in ['PCDNN_V2', 'PCDNN_V1', 'SIMPLE_DNN', 'GP'] # valid possible models\n",
    "exprExec=run_model_experiments(dm, models=model, debug_mode=debug_mode)"
   ]
  },
  {
   "cell_type": "code",
   "execution_count": null,
   "id": "14a22ddb",
   "metadata": {},
   "outputs": [],
   "source": [
    "\"\"\" prepare SimpleDNN for loading (from prior experiments) \"\"\"\n",
    "\n",
    "exprExec = DNNExperimentExecutor()\n",
    "exprExec.debug_mode = debug_mode\n",
    "\n",
    "exprExec.setModelFactory(SimpleDNNModelFactory())"
   ]
  },
  {
   "cell_type": "code",
   "execution_count": null,
   "id": "e722fe4a",
   "metadata": {},
   "outputs": [],
   "source": [
    "\"\"\" prepare PCDNNV1 for loading (from prior experiments) \"\"\"\n",
    "\n",
    "exprExec = PCDNNV1ExperimentExecutor()\n",
    "exprExec.debug_mode = debug_mode\n",
    "\n",
    "exprExec.setModelFactory(PCDNNV1ModelFactory())"
   ]
  },
  {
   "cell_type": "code",
   "execution_count": null,
   "id": "c52d1b5e",
   "metadata": {},
   "outputs": [],
   "source": [
    "\"\"\" prepare PCDNNV2 for loading (from prior experiments) \"\"\"\n",
    "\n",
    "exprExec = PCDNNV2ExperimentExecutor()\n",
    "exprExec.debug_mode = debug_mode\n",
    "\n",
    "exprExec.setModelFactory(PCDNNV2ModelFactory())"
   ]
  },
  {
   "cell_type": "markdown",
   "id": "24223f4f",
   "metadata": {},
   "source": [
    "## Rapid Model Testing: \n",
    "### (requires setting up PCDNNV2 for loading)"
   ]
  },
  {
   "cell_type": "code",
   "execution_count": null,
   "id": "0f3161d1",
   "metadata": {
    "scrolled": true
   },
   "outputs": [],
   "source": [
    "# fix seeds\n",
    "import random\n",
    "import numpy as np\n",
    "random.seed(0)\n",
    "np.random.seed(0)\n",
    "tf.random.set_seed(0)\n",
    "\n",
    "dataType = 'randomequaltraintestsplit' #'frameworkincludedtrainexcludedtest'\n",
    "inputType = 'AllSpeciesAndZmix'\n",
    "dataSetMethod = f'{inputType}_{dataType}'\n",
    "opscaler = None #\"MinMaxScaler\"# 'PositiveLogNormal'\n",
    "ipscaler = None #\"MinMaxScaler\"# 'PositiveLogNormal'\n",
    "ZmixPresent = 'Y'\n",
    "concatenateZmix = 'Y'\n",
    "kernel_constraint = 'Y'\n",
    "kernel_regularizer = 'Y'\n",
    "activity_regularizer = 'Y'\n",
    "noOfCpv = 4\n",
    "noOfNeurons = 53\n",
    "\n",
    "exprExec.modelFactory.loss='mae'\n",
    "exprExec.modelFactory.activation_func='relu'\n",
    "exprExec.modelFactory.dropout_rate=0.5\n",
    "exprExec.debug_mode = True\n",
    "exprExec.epochs_override = 1\n",
    "exprExec.batch_size = 32\n",
    "exprExec.n_models_override = 1\n",
    "\n",
    "# initialize experiment executor...\n",
    "exprExec.dm = dm\n",
    "exprExec.df_experimentTracker = pd.DataFrame()\n",
    "exprExec.modelType = 'PCDNNV2'\n",
    "\n",
    "history = exprExec.executeSingleExperiment(noOfNeurons,dataSetMethod,dataType,inputType,ZmixPresent=ZmixPresent,\n",
    "                                           noOfCpv=noOfCpv,concatenateZmix=concatenateZmix,kernel_constraint=kernel_constraint,\n",
    "                                           kernel_regularizer=kernel_regularizer,activity_regularizer=activity_regularizer,\n",
    "                                           opscaler=opscaler, ipscaler=ipscaler)"
   ]
  },
  {
   "cell_type": "code",
   "execution_count": null,
   "id": "52d39d0e",
   "metadata": {},
   "outputs": [],
   "source": [
    "\"\"\"\n",
    "import os, pickle\n",
    "os.system('mkdir base_code_model')\n",
    "with open('base_code_model/custom_objects.pickle', 'wb') as f:\n",
    "        pickle.dump(exprExec.modelFactory.concreteClassCustomObject, f)\n",
    "\n",
    "for i in range(200):\n",
    "    model = exprExec.modelFactory.rebuild_model()\n",
    "    model.save(f'base_code_model/base_code_model{i}.h5')\n",
    "    \n",
    "\"\"\""
   ]
  },
  {
   "cell_type": "markdown",
   "id": "19601332",
   "metadata": {},
   "source": [
    "## Results Plotting & Analysis"
   ]
  },
  {
   "cell_type": "code",
   "execution_count": null,
   "id": "80255f98",
   "metadata": {},
   "outputs": [],
   "source": [
    "loss = 727684307.3417714 # Update Me!\n",
    "\n",
    "def print_scientific_notation(number):\n",
    "    power = int(np.log(number)/np.log(10))\n",
    "    print(f\"Scientific Notation: {(loss/10**power)}*10^{power}\")\n",
    "print_scientific_notation(loss)"
   ]
  },
  {
   "cell_type": "code",
   "execution_count": null,
   "id": "5c22577a",
   "metadata": {},
   "outputs": [],
   "source": [
    "import matplotlib.pyplot as plt\n",
    "import numpy as np\n",
    "%matplotlib inline\n",
    "plt.plot(np.maximum(history.history['val_R2'][30:], 0))\n",
    "plt.title('val_R^2 vs epochs')\n",
    "plt.ylabel('percent')\n",
    "plt.xlabel('epochs')\n",
    "plt.show()"
   ]
  },
  {
   "cell_type": "code",
   "execution_count": null,
   "id": "2ec3b634",
   "metadata": {},
   "outputs": [],
   "source": [
    "import model_analyzer.model_analysis as model_analysis\n",
    "import importlib; importlib.reload(model_analysis)\n",
    "\n",
    "bestModel, experimentSettings = exprExec.modelFactory.openBestModel()\n",
    "dm.createTrainTestData(experimentSettings['dataSetMethod'],experimentSettings['noOfCpv'], experimentSettings['ipscaler'], experimentSettings['opscaler'])\n",
    "\n",
    "print(f'\\nexperimentSettings: {experimentSettings}')\n",
    "print(f'\\nbestModel.input_shape: {bestModel.input_shape}')\n",
    "inspector = model_analysis.ModelInspector(exprExec.modelFactory, dm)"
   ]
  },
  {
   "cell_type": "code",
   "execution_count": null,
   "id": "410474b7",
   "metadata": {},
   "outputs": [],
   "source": [
    "n_repeats = 5 if debug_mode else 20\n",
    "inspector.plot_permutation_feature_importance(n_repeats=n_repeats)"
   ]
  },
  {
   "cell_type": "code",
   "execution_count": null,
   "id": "383136c5",
   "metadata": {},
   "outputs": [],
   "source": [
    "inspector.plot_partial_dependence()"
   ]
  },
  {
   "cell_type": "markdown",
   "id": "2bea5e02",
   "metadata": {},
   "source": [
    "### Print & Record Linear Embeddings Output (NOTE: Deprecated)"
   ]
  },
  {
   "cell_type": "code",
   "execution_count": null,
   "id": "12784d54",
   "metadata": {},
   "outputs": [],
   "source": [
    "import numpy as np\n",
    "\n",
    "def inspect_PCA(X):\n",
    "    PCA_dict = {}\n",
    "    PCA_dict['X'] = X\n",
    "    PCA_dict['Var'] = PCA_dict['X'].var(axis=0)\n",
    "    \n",
    "    # sort by explained variance\n",
    "    sort_idx = np.argsort(PCA_dict['Var'])[::-1]\n",
    "    PCA_dict['X'] = PCA_dict['X'][:, sort_idx]\n",
    "    PCA_dict['Var'] = PCA_dict['Var'][sort_idx]\n",
    "    PCA_dict['CumVar'] = np.add.accumulate(PCA_dict['Var'])\n",
    "    return PCA_dict\n",
    "\n",
    "\n",
    "X, Y, rom, zmix = dm.getAllData()\n",
    "FullDataset = inspect_PCA(X)\n",
    "try:    \n",
    "    linearAutoEncoder = exprExec.modelFactory.getLinearEncoder()\n",
    "    X = linearAutoEncoder.predict(FullDataset['X'])\n",
    "    DNN_PCA = inspect_PCA(X)\n",
    "except KeyError:\n",
    "    print('No Linear Auto Encoder!')"
   ]
  },
  {
   "cell_type": "code",
   "execution_count": null,
   "id": "f6b0fdcc",
   "metadata": {},
   "outputs": [],
   "source": [
    "#dm.createDataset\n",
    "import matplotlib.pyplot as plt\n",
    "import copy\n",
    "dm_PurePCA = copy.deepcopy(dm)\n",
    "dm_PurePCA.createTrainTestData(dataSetMethod='PurePCA_randomequalflamesplit',\n",
    "                               numCpvComponents=2, ipscaler=None, opscaler=None)\n",
    "\n",
    "X,Y,rom,zmix = dm_PurePCA.getAllData()\n",
    "PurePCA = inspect_PCA(X)\n",
    "print(PurePCA['Var'])\n",
    "print(DNN_PCA['Var'])\n",
    "\n",
    "plt.plot(PurePCA['CumVar']/FullDataset['Var'].sum(), color='r')\n",
    "plt.plot(DNN_PCA['CumVar']/FullDataset['Var'].sum(), color='b')\n",
    "plt.title('PCA Total Variance Comparison')"
   ]
  }
 ],
 "metadata": {
  "kernelspec": {
   "display_name": "Python 3",
   "language": "python",
   "name": "python3"
  },
  "language_info": {
   "codemirror_mode": {
    "name": "ipython",
    "version": 3
   },
   "file_extension": ".py",
   "mimetype": "text/x-python",
   "name": "python",
   "nbconvert_exporter": "python",
   "pygments_lexer": "ipython3",
   "version": "3.8.8"
  }
 },
 "nbformat": 4,
 "nbformat_minor": 5
}
